{
 "cells": [
  {
   "cell_type": "code",
   "execution_count": 2,
   "metadata": {},
   "outputs": [],
   "source": [
    "import cv2\n",
    "import os\n",
    "import numpy as np\n",
    "from tensorflow.keras.models import load_model\n",
    "from mtcnn import MTCNN  # Thư viện phát hiện khuôn mặt"
   ]
  },
  {
   "cell_type": "code",
   "execution_count": 3,
   "metadata": {},
   "outputs": [
    {
     "name": "stderr",
     "output_type": "stream",
     "text": [
      "WARNING:absl:Compiled the loaded model, but the compiled metrics have yet to be built. `model.compile_metrics` will be empty until you train or evaluate the model.\n"
     ]
    }
   ],
   "source": [
    "# Định nghĩa kích thước hình ảnh\n",
    "IMG_SIZE = (128, 128)  # Kích thước đầu vào cho mô hình\n",
    "\n",
    "# Load mô hình đã huấn luyện\n",
    "model = load_model(\"face_recognition_model.h5\")"
   ]
  },
  {
   "cell_type": "code",
   "execution_count": null,
   "metadata": {},
   "outputs": [],
   "source": [
    "# Danh sách các nhãn\n",
    "\n",
    "class_names = [\n",
    "    'DoMixi', \n",
    "    'HariWon', \n",
    "    'HieuThuHai', \n",
    "    'HoNgocHa', \n",
    "    'Misthy', \n",
    "    'PhuongAnhDao', \n",
    "    'SonTungMTP', \n",
    "    'ThuyTien', \n",
    "    'TranThanh', \n",
    "    'karik'\n",
    "]\n"
   ]
  },
  {
   "cell_type": "code",
   "execution_count": 20,
   "metadata": {},
   "outputs": [],
   "source": [
    "# Ngưỡng xác định \"Unknown\" (ví dụ: nếu độ tin cậy < 50%)\n",
    "CONFIDENCE_THRESHOLD = 50.0\n",
    "\n",
    "# Đường dẫn thư mục chứa ảnh\n",
    "image_folder = r\"C:\\DL\\NDKM\\img_test\"\n",
    "\n",
    "# Khởi tạo bộ phát hiện khuôn mặt MTCNN\n",
    "detector = MTCNN()"
   ]
  },
  {
   "cell_type": "code",
   "execution_count": 21,
   "metadata": {},
   "outputs": [],
   "source": [
    "# Duyệt qua tất cả ảnh trong thư mục\n",
    "for image_name in os.listdir(image_folder):\n",
    "    image_path = os.path.join(image_folder, image_name)\n",
    "    \n",
    "    # Đọc ảnh\n",
    "    image = cv2.imread(image_path)\n",
    "    if image is None:\n",
    "        print(f\"Không thể đọc ảnh: {image_name}. Bỏ qua.\")\n",
    "        continue\n",
    "\n",
    "    # Phát hiện khuôn mặt trên ảnh\n",
    "    results = detector.detect_faces(image)\n",
    "\n",
    "    for result in results:\n",
    "        # Lấy vị trí khuôn mặt\n",
    "        x, y, width, height = result['box']\n",
    "        x, y = max(0, x), max(0, y)  # Đảm bảo không âm\n",
    "        face = image[y:y+height, x:x+width]  # Crop khuôn mặt\n",
    "\n",
    "        # Resize khuôn mặt về kích thước chuẩn\n",
    "        try:\n",
    "            resized_face = cv2.resize(face, IMG_SIZE)\n",
    "        except Exception as e:\n",
    "            print(f\"Resize error on {image_name}: {e}\")\n",
    "            continue\n",
    "\n",
    "        # Chuẩn hóa khuôn mặt\n",
    "        normalized_face = resized_face / 255.0\n",
    "        reshaped_face = np.expand_dims(normalized_face, axis=0)\n",
    "\n",
    "        # Dự đoán nhãn\n",
    "        predictions = model.predict(reshaped_face, verbose=0)\n",
    "        confidence = np.max(predictions) * 100  # Tính toán độ tin cậy\n",
    "        if confidence < CONFIDENCE_THRESHOLD:\n",
    "            predicted_label = \"Unknown\"\n",
    "        else:\n",
    "            predicted_label = class_names[np.argmax(predictions)]\n",
    "\n",
    "        # Vẽ khung quanh khuôn mặt\n",
    "        cv2.rectangle(image, (x, y), (x + width, y + height), (0, 255, 0), 2)\n",
    "        cv2.putText(image, f'{predicted_label} ({confidence:.2f}%)', (x, y - 10),\n",
    "                    cv2.FONT_HERSHEY_SIMPLEX, 0.7, (0, 255, 0), 2)\n",
    "\n",
    "    # Hiển thị ảnh đã xử lý\n",
    "    cv2.imshow(f\"Processed Image - {image_name}\", image)\n",
    "\n",
    "    # Nhấn phím bất kỳ để chuyển sang ảnh tiếp theo, nhấn 'q' để thoát\n",
    "    if cv2.waitKey(0) & 0xFF == ord('q'):\n",
    "        break\n",
    "\n",
    "# Đóng tất cả cửa sổ\n",
    "cv2.destroyAllWindows()"
   ]
  },
  {
   "cell_type": "code",
   "execution_count": null,
   "metadata": {},
   "outputs": [],
   "source": []
  },
  {
   "cell_type": "code",
   "execution_count": null,
   "metadata": {},
   "outputs": [],
   "source": []
  }
 ],
 "metadata": {
  "kernelspec": {
   "display_name": "Python 3",
   "language": "python",
   "name": "python3"
  },
  "language_info": {
   "codemirror_mode": {
    "name": "ipython",
    "version": 3
   },
   "file_extension": ".py",
   "mimetype": "text/x-python",
   "name": "python",
   "nbconvert_exporter": "python",
   "pygments_lexer": "ipython3",
   "version": "3.10.11"
  }
 },
 "nbformat": 4,
 "nbformat_minor": 2
}
