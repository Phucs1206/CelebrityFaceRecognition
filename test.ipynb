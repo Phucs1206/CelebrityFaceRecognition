{
 "cells": [
  {
   "cell_type": "code",
   "execution_count": 13,
   "metadata": {},
   "outputs": [],
   "source": [
    "import cv2\n",
    "import numpy as np\n",
    "from tensorflow.keras.models import load_model\n",
    "from mtcnn import MTCNN  # Thư viện phát hiện khuôn mặt"
   ]
  },
  {
   "cell_type": "code",
   "execution_count": null,
   "metadata": {},
   "outputs": [
    {
     "name": "stderr",
     "output_type": "stream",
     "text": [
      "WARNING:absl:Compiled the loaded model, but the compiled metrics have yet to be built. `model.compile_metrics` will be empty until you train or evaluate the model.\n"
     ]
    }
   ],
   "source": [
    "# Định nghĩa kích thước hình ảnh\n",
    "IMG_SIZE = (128, 128)  # Kích thước đầu vào cho mô hình\n",
    "\n",
    "# Load mô hình đã huấn luyện\n",
    "model = load_model(\"face_recognition_model.h5\")\n",
    "# model = load_model(\"face_recognition_model.h5\")\n",
    "\n",
    "# Danh sách các nhãn\n",
    "# class_names = [\n",
    "#     'DoMixi', \n",
    "#     'HariWon', \n",
    "#     'HieuThuHai', \n",
    "#     'HoNgocHa', \n",
    "#     'karik', \n",
    "#     'MisThy', \n",
    "#     'PhuongAnhDao', \n",
    "#     'SonTungMTP', \n",
    "#     'ThuyTien', \n",
    "#     'TranThanh'\n",
    "# ]\n",
    "class_names = [\n",
    "    'DoMixi', \n",
    "    'HariWon', \n",
    "    'HieuThuHai', \n",
    "    'HoNgocHa', \n",
    "    'Misthy', \n",
    "    'PhuongAnhDao', \n",
    "    'SonTungMTP', \n",
    "    'ThuyTien', \n",
    "    'TranThanh', \n",
    "    'karik'\n",
    "]\n",
    "# Ngưỡng xác định \"Unknown\" (ví dụ: nếu độ tin cậy < 50%)\n",
    "CONFIDENCE_THRESHOLD = 50.0"
   ]
  },
  {
   "cell_type": "code",
   "execution_count": 135,
   "metadata": {},
   "outputs": [],
   "source": [
    "# Đường dẫn video\n",
    "video_path = r\"C:\\DL\\NDKM\\video\\karik.mp4\"\n",
    "\n",
    "# Mở video\n",
    "# cap = cv2.VideoCapture(0)\n",
    "cap = cv2.VideoCapture(video_path)\n",
    "\n",
    "# Khởi tạo bộ phát hiện khuôn mặt MTCNN\n",
    "detector = MTCNN()\n",
    "\n",
    "# Tăng tốc độ phát video (số frame bị bỏ qua giữa mỗi lần xử lý)\n",
    "frame_skip = 5\n",
    "frame_count = 0"
   ]
  },
  {
   "cell_type": "code",
   "execution_count": 136,
   "metadata": {},
   "outputs": [],
   "source": [
    "while cap.isOpened():\n",
    "    ret, frame = cap.read()\n",
    "    if not ret:\n",
    "        break\n",
    "\n",
    "    frame_count += 1\n",
    "\n",
    "    # Bỏ qua frame để tăng tốc\n",
    "    if frame_count % frame_skip != 0:\n",
    "        continue\n",
    "\n",
    "    # Phát hiện khuôn mặt trên frame\n",
    "    results = detector.detect_faces(frame)\n",
    "    \n",
    "    for result in results:\n",
    "        # Lấy vị trí khuôn mặt\n",
    "        x, y, width, height = result['box']\n",
    "        x, y = max(0, x), max(0, y)  # Đảm bảo không âm\n",
    "        face = frame[y:y+height, x:x+width]  # Crop khuôn mặt\n",
    "\n",
    "        # Resize khuôn mặt về kích thước chuẩn\n",
    "        try:\n",
    "            resized_face = cv2.resize(face, IMG_SIZE)\n",
    "        except Exception as e:\n",
    "            print(f\"Resize error: {e}\")\n",
    "            continue\n",
    "        normalized_face = resized_face / 255.0\n",
    "        reshaped_face = np.expand_dims(normalized_face, axis=0)\n",
    "\n",
    "        # Dự đoán nhãn\n",
    "        predictions = model.predict(reshaped_face, verbose=0)\n",
    "        confidence = np.max(predictions) * 100  # Tính toán độ tin cậy\n",
    "        if confidence < CONFIDENCE_THRESHOLD:\n",
    "            predicted_label = \"Unknown\"\n",
    "        else:\n",
    "            predicted_label = class_names[np.argmax(predictions)]\n",
    "\n",
    "        # Vẽ khung quanh khuôn mặt\n",
    "        cv2.rectangle(frame, (x, y), (x + width, y + height), (0, 255, 0), 2)\n",
    "        cv2.putText(frame, f'{predicted_label} ({confidence:.2f}%)', (x, y - 10),\n",
    "                    cv2.FONT_HERSHEY_SIMPLEX, 0.7, (0, 255, 0), 2)\n",
    "\n",
    "    # Hiển thị kết quả\n",
    "    cv2.imshow(\"Face Recognition\", frame)\n",
    "\n",
    "    # Thoát khi nhấn phím 'q'\n",
    "    if cv2.waitKey(1) & 0xFF == ord('q'):\n",
    "        break\n",
    "\n",
    "cap.release()\n",
    "cv2.destroyAllWindows()"
   ]
  },
  {
   "cell_type": "code",
   "execution_count": null,
   "metadata": {},
   "outputs": [],
   "source": []
  }
 ],
 "metadata": {
  "kernelspec": {
   "display_name": "Python 3",
   "language": "python",
   "name": "python3"
  },
  "language_info": {
   "codemirror_mode": {
    "name": "ipython",
    "version": 3
   },
   "file_extension": ".py",
   "mimetype": "text/x-python",
   "name": "python",
   "nbconvert_exporter": "python",
   "pygments_lexer": "ipython3",
   "version": "3.10.11"
  }
 },
 "nbformat": 4,
 "nbformat_minor": 2
}
