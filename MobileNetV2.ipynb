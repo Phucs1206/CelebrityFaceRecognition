{
 "cells": [
  {
   "cell_type": "code",
   "execution_count": 13,
   "metadata": {},
   "outputs": [],
   "source": [
    "import os\n",
    "import numpy as np\n",
    "import tensorflow as tf\n",
    "from tensorflow.keras.preprocessing.image import ImageDataGenerator\n",
    "from tensorflow.keras.models import Sequential, Model\n",
    "from tensorflow.keras.layers import Conv2D, MaxPooling2D, Flatten, Dense, Dropout, BatchNormalization, GlobalAveragePooling2D\n",
    "from tensorflow.keras.optimizers import Adam\n",
    "from tensorflow.keras.applications import MobileNetV2\n",
    "from tensorflow.keras.callbacks import EarlyStopping, ModelCheckpoint, ReduceLROnPlateau"
   ]
  },
  {
   "cell_type": "code",
   "execution_count": 14,
   "metadata": {},
   "outputs": [],
   "source": [
    "# Đường dẫn tới thư mục dữ liệu\n",
    "base_dir = r'C:\\\\DL\\\\NDKM\\\\aug_data'\n",
    "\n",
    "# Các tham số\n",
    "IMG_SIZE = (224, 224)  # Kích thước ảnh đầu vào (có thể thay đổi theo mô hình)\n",
    "BATCH_SIZE = 32\n",
    "NUM_CLASSES = 10  # Số lớp dữ liệu (danh sách class_names)\n",
    "\n",
    "# Tạo Data Generators cho huấn luyện và kiểm tra\n",
    "datagen = ImageDataGenerator(\n",
    "    rescale=1./255,\n",
    "    validation_split=0.2,\n",
    "    rotation_range=20,        # Xoay ngẫu nhiên\n",
    "    shear_range=0.2,          # Biến dạng\n",
    "    zoom_range=0.2,           # Phóng to/thu nhỏ\n",
    "    fill_mode='nearest'       # Điền các pixel trống\n",
    ")\n"
   ]
  },
  {
   "cell_type": "code",
   "execution_count": 16,
   "metadata": {},
   "outputs": [
    {
     "name": "stdout",
     "output_type": "stream",
     "text": [
      "Found 10144 images belonging to 10 classes.\n",
      "Found 2536 images belonging to 10 classes.\n"
     ]
    }
   ],
   "source": [
    "train_generator = datagen.flow_from_directory(\n",
    "    base_dir,\n",
    "    target_size=IMG_SIZE,\n",
    "    batch_size=BATCH_SIZE,\n",
    "    class_mode='categorical',\n",
    "    subset='training'\n",
    ")\n",
    "\n",
    "val_generator = datagen.flow_from_directory(\n",
    "    base_dir,\n",
    "    target_size=IMG_SIZE,\n",
    "    batch_size=BATCH_SIZE,\n",
    "    class_mode='categorical',\n",
    "    subset='validation'\n",
    ")"
   ]
  },
  {
   "cell_type": "code",
   "execution_count": 17,
   "metadata": {},
   "outputs": [
    {
     "name": "stdout",
     "output_type": "stream",
     "text": [
      "Downloading data from https://storage.googleapis.com/tensorflow/keras-applications/mobilenet_v2/mobilenet_v2_weights_tf_dim_ordering_tf_kernels_1.0_224_no_top.h5\n",
      "9406464/9406464 [==============================] - 2s 0us/step\n"
     ]
    }
   ],
   "source": [
    "# Tải mô hình pre-trained MobileNetV2\n",
    "base_model = MobileNetV2(weights='imagenet', include_top=False, input_shape=(224, 224, 3))\n"
   ]
  },
  {
   "cell_type": "code",
   "execution_count": 18,
   "metadata": {},
   "outputs": [],
   "source": [
    "# Đóng băng các tầng trong base_model\n",
    "base_model.trainable = False"
   ]
  },
  {
   "cell_type": "code",
   "execution_count": 19,
   "metadata": {},
   "outputs": [],
   "source": [
    "# Thêm các tầng trên cùng cho bài toán của bạn\n",
    "x = base_model.output\n",
    "x = GlobalAveragePooling2D()(x)\n",
    "x = Dense(256, activation='relu')(x)\n",
    "x = Dropout(0.5)(x)\n",
    "predictions = Dense(NUM_CLASSES, activation='softmax')(x)"
   ]
  },
  {
   "cell_type": "code",
   "execution_count": 20,
   "metadata": {},
   "outputs": [],
   "source": [
    "# Định nghĩa mô hình\n",
    "model = Model(inputs=base_model.input, outputs=predictions)\n",
    "# Compile mô hình\n",
    "optimizer = Adam(learning_rate=0.0001)  # Giảm learning rate\n",
    "model.compile(optimizer=optimizer,\n",
    "              loss='categorical_crossentropy',\n",
    "              metrics=['accuracy'])"
   ]
  },
  {
   "cell_type": "code",
   "execution_count": 21,
   "metadata": {},
   "outputs": [],
   "source": [
    "# Các callback\n",
    "early_stop = EarlyStopping(monitor='val_loss', patience=5, restore_best_weights=True)\n",
    "checkpoint = ModelCheckpoint('best_model.h5', monitor='val_accuracy', save_best_only=True)\n",
    "reduce_lr = ReduceLROnPlateau(monitor='val_loss', factor=0.5, patience=3, min_lr=1e-6)\n"
   ]
  },
  {
   "cell_type": "code",
   "execution_count": 22,
   "metadata": {},
   "outputs": [
    {
     "name": "stdout",
     "output_type": "stream",
     "text": [
      "Epoch 1/20\n",
      "317/317 [==============================] - 272s 846ms/step - loss: 2.1592 - accuracy: 0.2476 - val_loss: 2.1503 - val_accuracy: 0.2271 - lr: 1.0000e-04\n",
      "Epoch 2/20\n",
      "317/317 [==============================] - 258s 814ms/step - loss: 1.7517 - accuracy: 0.4065 - val_loss: 2.0323 - val_accuracy: 0.2819 - lr: 1.0000e-04\n",
      "Epoch 3/20\n",
      "317/317 [==============================] - 268s 845ms/step - loss: 1.5253 - accuracy: 0.4885 - val_loss: 1.9700 - val_accuracy: 0.3277 - lr: 1.0000e-04\n",
      "Epoch 4/20\n",
      "317/317 [==============================] - 249s 787ms/step - loss: 1.3518 - accuracy: 0.5525 - val_loss: 1.9645 - val_accuracy: 0.3336 - lr: 1.0000e-04\n",
      "Epoch 5/20\n",
      "317/317 [==============================] - 249s 785ms/step - loss: 1.2405 - accuracy: 0.5922 - val_loss: 1.9530 - val_accuracy: 0.3525 - lr: 1.0000e-04\n",
      "Epoch 6/20\n",
      "317/317 [==============================] - 248s 782ms/step - loss: 1.1283 - accuracy: 0.6264 - val_loss: 1.9500 - val_accuracy: 0.3454 - lr: 1.0000e-04\n",
      "Epoch 7/20\n",
      "317/317 [==============================] - 250s 788ms/step - loss: 1.0524 - accuracy: 0.6609 - val_loss: 1.9246 - val_accuracy: 0.3636 - lr: 1.0000e-04\n",
      "Epoch 8/20\n",
      "317/317 [==============================] - 249s 785ms/step - loss: 1.0086 - accuracy: 0.6759 - val_loss: 1.9445 - val_accuracy: 0.3533 - lr: 1.0000e-04\n",
      "Epoch 9/20\n",
      "317/317 [==============================] - 249s 786ms/step - loss: 0.9532 - accuracy: 0.6956 - val_loss: 1.9445 - val_accuracy: 0.3699 - lr: 1.0000e-04\n",
      "Epoch 10/20\n",
      "317/317 [==============================] - 248s 783ms/step - loss: 0.9096 - accuracy: 0.7060 - val_loss: 1.9751 - val_accuracy: 0.3636 - lr: 1.0000e-04\n",
      "Epoch 11/20\n",
      "317/317 [==============================] - 249s 786ms/step - loss: 0.8813 - accuracy: 0.7158 - val_loss: 1.9174 - val_accuracy: 0.3671 - lr: 5.0000e-05\n",
      "Epoch 12/20\n",
      "317/317 [==============================] - 253s 799ms/step - loss: 0.8536 - accuracy: 0.7253 - val_loss: 1.9379 - val_accuracy: 0.3707 - lr: 5.0000e-05\n",
      "Epoch 13/20\n",
      "317/317 [==============================] - 248s 781ms/step - loss: 0.8241 - accuracy: 0.7375 - val_loss: 1.8965 - val_accuracy: 0.3829 - lr: 5.0000e-05\n",
      "Epoch 14/20\n",
      "317/317 [==============================] - 245s 773ms/step - loss: 0.8095 - accuracy: 0.7419 - val_loss: 1.9505 - val_accuracy: 0.3636 - lr: 5.0000e-05\n",
      "Epoch 15/20\n",
      "317/317 [==============================] - 248s 782ms/step - loss: 0.7852 - accuracy: 0.7431 - val_loss: 1.9567 - val_accuracy: 0.3726 - lr: 5.0000e-05\n",
      "Epoch 16/20\n",
      "317/317 [==============================] - 250s 789ms/step - loss: 0.7722 - accuracy: 0.7501 - val_loss: 1.9387 - val_accuracy: 0.3766 - lr: 5.0000e-05\n",
      "Epoch 17/20\n",
      "317/317 [==============================] - 249s 787ms/step - loss: 0.7686 - accuracy: 0.7560 - val_loss: 1.9479 - val_accuracy: 0.3864 - lr: 2.5000e-05\n",
      "Epoch 18/20\n",
      "317/317 [==============================] - 248s 783ms/step - loss: 0.7464 - accuracy: 0.7614 - val_loss: 1.9408 - val_accuracy: 0.3825 - lr: 2.5000e-05\n"
     ]
    }
   ],
   "source": [
    "# Huấn luyện mô hình\n",
    "history = model.fit(\n",
    "    train_generator,\n",
    "    validation_data=val_generator,\n",
    "    epochs=20,\n",
    "    callbacks=[early_stop, checkpoint, reduce_lr],\n",
    "    verbose=1\n",
    ")"
   ]
  },
  {
   "cell_type": "code",
   "execution_count": 23,
   "metadata": {},
   "outputs": [],
   "source": [
    "model.save('face_recognition_model_0.h5')\n"
   ]
  },
  {
   "cell_type": "code",
   "execution_count": 24,
   "metadata": {},
   "outputs": [
    {
     "data": {
      "image/png": "[encoded data removed]",
      "text/plain": [
       "<Figure size 864x432 with 2 Axes>"
      ]
     },
     "metadata": {
      "needs_background": "light"
     },
     "output_type": "display_data"
    }
   ],
   "source": [
    "import matplotlib.pyplot as plt\n",
    "\n",
    "# Vẽ biểu đồ độ chính xác\n",
    "plt.figure(figsize=(12, 6))\n",
    "plt.subplot(1, 2, 1)\n",
    "plt.plot(history.history['accuracy'], label='Train Accuracy', color='blue')\n",
    "plt.plot(history.history['val_accuracy'], label='Validation Accuracy', color='orange')\n",
    "plt.title('Model Accuracy')\n",
    "plt.xlabel('Epochs')\n",
    "plt.ylabel('Accuracy')\n",
    "plt.legend()\n",
    "\n",
    "# Vẽ biểu đồ tổn thất\n",
    "plt.subplot(1, 2, 2)\n",
    "plt.plot(history.history['loss'], label='Train Loss', color='blue')\n",
    "plt.plot(history.history['val_loss'], label='Validation Loss', color='orange')\n",
    "plt.title('Model Loss')\n",
    "plt.xlabel('Epochs')\n",
    "plt.ylabel('Loss')\n",
    "plt.legend()\n",
    "\n",
    "# Hiển thị biểu đồ\n",
    "plt.tight_layout()\n",
    "plt.show()\n"
   ]
  }
 ],
 "metadata": {
  "kernelspec": {
   "display_name": "base",
   "language": "python",
   "name": "python3"
  },
  "language_info": {
   "codemirror_mode": {
    "name": "ipython",
    "version": 3
   },
   "file_extension": ".py",
   "mimetype": "text/x-python",
   "name": "python",
   "nbconvert_exporter": "python",
   "pygments_lexer": "ipython3",
   "version": "3.9.12"
  }
 },
 "nbformat": 4,
 "nbformat_minor": 2
}
